{
 "cells": [
  {
   "cell_type": "markdown",
   "id": "498731c6",
   "metadata": {},
   "source": [
    "# Actividad - Trabajando con Series de Pandas.\n",
    "## Criterios de evaluación.\n",
    "\n",
    "* Se deben utilizar nombres de variables descriptivos y claros (Utilizar la nomeclatura correspondiente para los nombres de variables).\n",
    "* Comentarios claros y concisos que expliquen el propósito de cada sección del código.\n",
    "* Utilizar mensajes de commit **descriptivos**. (Puedes utilizar la extension CONVENTIONAL COMMIT de VS-CODE). \n",
    "* Entrega en tiempo y forma.\n",
    "* Todo el código desarrollado debe ser subido a un repositorio en GitHub (el nombre del repositorio de seguir la siguiente estructura: actividad_tlp3_nombre_apellido).\n",
    "* Para resolver las actividades se debe insertar casillas de codigo entre cada actividad del cuaderno de Jupyter\n",
    "\n",
    "### ¡Importante!\n",
    "**El incumplimiento de los criterios de evaluación restará puntos en la nota final del práctico!**"
   ]
  },
  {
   "cell_type": "markdown",
   "id": "b361a7b6",
   "metadata": {},
   "source": [
    "### **Actividad 1:** \n",
    "\n",
    "Crear Series desde diferentes estructuras.\n",
    "* Crea una Series con los números del 1 al 5\n",
    "* Crea una Series a partir de un diccionario con nombres de países como claves y sus capitales como valores."
   ]
  },
  {
   "cell_type": "code",
   "execution_count": 2,
   "id": "26009294",
   "metadata": {},
   "outputs": [
    {
     "name": "stdout",
     "output_type": "stream",
     "text": [
      "0    1\n",
      "1    2\n",
      "2    3\n",
      "3    4\n",
      "4    5\n",
      "dtype: int64\n",
      "Argentina    Buenos Aires\n",
      "Brasil           Brasilia\n",
      "Chile            Santiago\n",
      "Paraguay         Asunción\n",
      "Uruguay        Montevideo\n",
      "dtype: object\n"
     ]
    }
   ],
   "source": [
    "import pandas as pd\n",
    "from pandas import Series \n",
    "# todo:\n",
    "serie_1 = Series([1, 2, 3, 4, 5])\n",
    "print(serie_1)\n",
    "\n",
    "capitales = {\n",
    "    \"Argentina\": \"Buenos Aires\",\n",
    "    \"Brasil\": \"Brasilia\",\n",
    "    \"Chile\": \"Santiago\",\n",
    "    \"Paraguay\": \"Asunción\",\n",
    "    \"Uruguay\": \"Montevideo\"\n",
    "}\n",
    "serie_2 = Series(capitales) \n",
    "print(serie_2)"
   ]
  },
  {
   "cell_type": "markdown",
   "id": "0c239195",
   "metadata": {},
   "source": [
    "### **Actividad 2:** \n",
    "Acceso y selección de elementos.\n",
    "* Usa una Series con tareas (que haceres cotidianos) de una semana\n",
    "* Accede a diferentes elementos a elección.\n",
    "* Cambia los valores de los dias pares.\n"
   ]
  },
  {
   "cell_type": "code",
   "execution_count": null,
   "id": "3611d25a",
   "metadata": {},
   "outputs": [
    {
     "name": "stdout",
     "output_type": "stream",
     "text": [
      "Tareas semanales:\n",
      "Lunes                          voley\n",
      "Martes                      Estudiar\n",
      "Miércoles            Limpiar la casa\n",
      "Jueves                Ir al gimnasio\n",
      "Viernes      Trabajar en el proyecto\n",
      "Sábado                     Descansar\n",
      "Domingo         Visitar a la familia\n",
      "dtype: object\n",
      "voley\n",
      "Martes              Estudiar\n",
      "Miércoles    Limpiar la casa\n",
      "Jueves        Ir al gimnasio\n",
      "dtype: object\n",
      "Sábado                Descansar\n",
      "Domingo    Visitar a la familia\n",
      "dtype: object\n",
      "\n",
      "Tareas actualizadas (días pares modificados):\n",
      "Lunes                          voley\n",
      "Martes               Revisar correos\n",
      "Miércoles            Limpiar la casa\n",
      "Jueves                 Lavar la ropa\n",
      "Viernes      Trabajar en el proyecto\n",
      "Sábado                  Ir al parque\n",
      "Domingo         Visitar a la familia\n",
      "dtype: object\n"
     ]
    }
   ],
   "source": [
    "\n",
    "# todo:\n",
    "\n",
    "tareas_semana = Series({\n",
    "    \"Lunes\": \"voley\",\n",
    "    \"Martes\": \"Estudiar\",\n",
    "    \"Miércoles\": \"Limpiar la casa\",\n",
    "    \"Jueves\": \"Ir al gimnasio\",\n",
    "    \"Viernes\": \"Trabajar en el proyecto\",\n",
    "    \"Sábado\": \"Descansar\",\n",
    "    \"Domingo\": \"Visitar a la familia\"\n",
    "})\n",
    "\n",
    "print(\"Tareas semanales:\")\n",
    "print(tareas_semana)\n",
    "\n",
    "# Acceder a un elemento específic\n",
    "print(tareas_semana[\"Lunes\"])\n",
    "# Acceder a varios elementos\n",
    "\n",
    "print(tareas_semana[1:4])  # accede por posición\n",
    "\n",
    "# Acceder a varios elementos por nombre\n",
    "print(tareas_semana[[\"Sábado\", \"Domingo\"]])\n",
    "\n",
    "tareas_semana[\"Martes\"] = \"realizar trabajos prácticos\"\n",
    "tareas_semana[\"Jueves\"] = \"Lavar la ropa\"\n",
    "tareas_semana[\"Sábado\"] = \"Ir a la casa de un amigo\"\n",
    "\n",
    "print(\"\\nTareas actualizadas (días pares modificados):\")\n",
    "print(tareas_semana)\n",
    "\n",
    "\n"
   ]
  },
  {
   "cell_type": "markdown",
   "id": "70a24b97",
   "metadata": {},
   "source": [
    "### **Actividad 3:**\n",
    "Operaciones aritméticas. \n",
    "* Realiza las operaciones basicas con 2 series cuales quieran.\n",
    "* Eleva los valores de la primer serie a 3 potencias difetentes."
   ]
  },
  {
   "cell_type": "code",
   "execution_count": 19,
   "id": "a9c8ebc7",
   "metadata": {},
   "outputs": [
    {
     "name": "stdout",
     "output_type": "stream",
     "text": [
      "0    10\n",
      "1    20\n",
      "2    30\n",
      "3    40\n",
      "dtype: int64\n",
      "0    1\n",
      "1    2\n",
      "2    3\n",
      "3    4\n",
      "dtype: int64\n",
      "\n",
      "Operaciones aritméticas entre series:\n",
      "0    11\n",
      "1    22\n",
      "2    33\n",
      "3    44\n",
      "dtype: int64\n",
      "0     9\n",
      "1    18\n",
      "2    27\n",
      "3    36\n",
      "dtype: int64\n",
      "0     10\n",
      "1     40\n",
      "2     90\n",
      "3    160\n",
      "dtype: int64\n",
      "0    10.0\n",
      "1    10.0\n",
      "2    10.0\n",
      "3    10.0\n",
      "dtype: float64\n",
      "\n",
      "Serie 1 elevada a diferentes potencias:\n",
      "0     100\n",
      "1     400\n",
      "2     900\n",
      "3    1600\n",
      "dtype: int64\n",
      "0     1000\n",
      "1     8000\n",
      "2    27000\n",
      "3    64000\n",
      "dtype: int64\n",
      "0      10000\n",
      "1     160000\n",
      "2     810000\n",
      "3    2560000\n",
      "dtype: int64\n"
     ]
    }
   ],
   "source": [
    "\n",
    "# todo:\n",
    "\n",
    "serie1 = Series([10, 20, 30, 40])\n",
    "serie2 = Series([1, 2, 3, 4])\n",
    "\n",
    "print(serie1)\n",
    "print(serie2)\n",
    "\n",
    "# Operaciones aritméticas entre series\n",
    "print(\"\\nOperaciones aritméticas entre series:\")\n",
    "print(serie1 + serie2)\n",
    "print(serie1 - serie2)\n",
    "print(serie1 * serie2)\n",
    "print(serie1 / serie2)\n",
    "\n",
    "# elevación a potencias\n",
    "print(\"\\nSerie 1 elevada a diferentes potencias:\")\n",
    "print(serie1 ** 2)\n",
    "print(serie1 ** 3)\n",
    "print(serie1 ** 4)\n"
   ]
  },
  {
   "cell_type": "markdown",
   "id": "b8dac397",
   "metadata": {},
   "source": [
    "### **Actividad 4:** \n",
    "Filtrado con condiciones.\n",
    "* Crea una Series de edades de 10 personas.\n",
    "* Muestra solo a los mayores de 18.\n",
    "* Reemplaza a los menores por \"Menor de edad\"."
   ]
  },
  {
   "cell_type": "code",
   "execution_count": 11,
   "id": "d04fd492",
   "metadata": {},
   "outputs": [
    {
     "name": "stdout",
     "output_type": "stream",
     "text": [
      "0    10\n",
      "1    20\n",
      "2    15\n",
      "3    18\n",
      "4    21\n",
      "5    33\n",
      "6    45\n",
      "7    19\n",
      "8    25\n",
      "9    30\n",
      "dtype: int64\n",
      "1    20\n",
      "4    21\n",
      "5    33\n",
      "6    45\n",
      "7    19\n",
      "8    25\n",
      "9    30\n",
      "dtype: int64\n",
      "0    menor de edad \n",
      "1                20\n",
      "2    menor de edad \n",
      "3                18\n",
      "4                21\n",
      "5                33\n",
      "6                45\n",
      "7                19\n",
      "8                25\n",
      "9                30\n",
      "dtype: object\n"
     ]
    },
    {
     "name": "stderr",
     "output_type": "stream",
     "text": [
      "C:\\Users\\IPF-2025\\AppData\\Local\\Temp\\ipykernel_14396\\1735274422.py:10: FutureWarning: Setting an item of incompatible dtype is deprecated and will raise an error in a future version of pandas. Value 'menor de edad ' has dtype incompatible with int64, please explicitly cast to a compatible dtype first.\n",
      "  edades_modificadas[edades < 18] = \"menor de edad \"  # Cambiar edades menores a 18 por \"menor de edad\"\n"
     ]
    }
   ],
   "source": [
    "\n",
    "# todo:\n",
    "edades = Series([10, 20, 15, 18, 21, 33, 45, 19, 25, 30])\n",
    "print(edades)\n",
    "\n",
    "edades_mayores_18 = edades[edades > 18] # Filtrar edades mayores a 18\n",
    "print(edades_mayores_18)\n",
    "\n",
    "edades_modificadas = edades.copy()  # Crear una copia de la serie original\n",
    "\n",
    "edades_modificadas[edades < 18] = \"menor de edad \"  # Cambiar edades menores a 18 por \"menor de edad\"\n",
    "print(edades_modificadas)\n",
    "\n"
   ]
  },
  {
   "cell_type": "markdown",
   "id": "8889d0f2",
   "metadata": {},
   "source": [
    "### Actividad 5:\n",
    "Estadísticas básicas.\n",
    "\n",
    "* Crea una Series con las notas de 10 estudiantes.\n",
    "* Calcula la media, mediana, desviación estándar y máximo.\n",
    "* Muestra cuántos estudiantes aprobaron si el mínimo para aprobar es 6.\n",
    "* Ordenar las notas de manera ascendente y descendente. "
   ]
  },
  {
   "cell_type": "code",
   "execution_count": 15,
   "id": "bc0ec844",
   "metadata": {},
   "outputs": [
    {
     "name": "stdout",
     "output_type": "stream",
     "text": [
      "Media: 5.5\n",
      "Mediana: 5.5\n",
      "Desviación estándar: 3.0276503540974917\n",
      "Máximo: 10\n",
      "Cantidad de aprobados: 5\n",
      "notas de manera ascendente: 9     1\n",
      "8     2\n",
      "7     3\n",
      "6     4\n",
      "5     5\n",
      "4     6\n",
      "2     7\n",
      "0     8\n",
      "1     9\n",
      "3    10\n",
      "dtype: int64\n",
      "notas de manera descendente: 3    10\n",
      "1     9\n",
      "0     8\n",
      "2     7\n",
      "4     6\n",
      "5     5\n",
      "6     4\n",
      "7     3\n",
      "8     2\n",
      "9     1\n",
      "dtype: int64\n"
     ]
    }
   ],
   "source": [
    "\n",
    "# todo:\n",
    "notas = Series([8, 9, 7, 10, 6, 5, 4, 3, 2, 1])\n",
    "\n",
    "print(\"Media:\", notas.mean())    # media\n",
    "print(\"Mediana:\", notas.median())  #mediana\n",
    "print(\"Desviación estándar:\", notas.std())  # desviación estándar\n",
    "print(\"Máximo:\", notas.max())    #máximo\n",
    "\n",
    "aprobados = notas[notas >= 6] # notas aprobadas\n",
    "print(\"Cantidad de aprobados:\", len(aprobados))  # cantidad de aprobados\n",
    "\n",
    "print(\"notas de manera ascendente:\" , notas.sort_values(ascending=True))  # ordenar de manera ascendente\n",
    "print(\"notas de manera descendente:\" , notas.sort_values(ascending=False))  # ordenar de manera descendente"
   ]
  }
 ],
 "metadata": {
  "kernelspec": {
   "display_name": "Python 3",
   "language": "python",
   "name": "python3"
  },
  "language_info": {
   "codemirror_mode": {
    "name": "ipython",
    "version": 3
   },
   "file_extension": ".py",
   "mimetype": "text/x-python",
   "name": "python",
   "nbconvert_exporter": "python",
   "pygments_lexer": "ipython3",
   "version": "3.12.9"
  }
 },
 "nbformat": 4,
 "nbformat_minor": 5
}
